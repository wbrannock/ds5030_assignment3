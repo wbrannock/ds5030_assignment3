{
 "cells": [
  {
   "cell_type": "markdown",
   "id": "7c6c1330",
   "metadata": {},
   "source": [
    "# Assignment 3\n",
    "### Due 9/23. Do four of five."
   ]
  },
  {
   "cell_type": "markdown",
   "id": "b30e7003",
   "metadata": {},
   "source": [
    "### Completed By William Brannock\n",
    "### Computing ID: svv8fs@virginia.edu"
   ]
  },
  {
   "cell_type": "code",
   "execution_count": 3,
   "id": "f33e0373",
   "metadata": {},
   "outputs": [
    {
     "name": "stdout",
     "output_type": "stream",
     "text": [
      "Download file already exists\n",
      "Data directory already exists\n"
     ]
    }
   ],
   "source": [
    "# Downloading data to directory\n",
    "def download_data(force=False):\n",
    "    \"\"\"Download and extract course data from Zenodo.\"\"\"\n",
    "    import urllib.request, zipfile, os\n",
    "    \n",
    "    zip_path = 'data.zip'\n",
    "    data_dir = 'data'\n",
    "    \n",
    "    if not os.path.exists(zip_path) or force:\n",
    "        print(\"Downloading course data\")\n",
    "        urllib.request.urlretrieve(\n",
    "            'https://zenodo.org/records/16954427/files/data.zip?download=1',\n",
    "            zip_path\n",
    "        )\n",
    "        print(\"Download complete\")\n",
    "    else:\n",
    "        print(\"Download file already exists\")\n",
    "        \n",
    "    if not os.path.exists(data_dir) or force:\n",
    "        print(\"Extracting data files...\")\n",
    "        with zipfile.ZipFile(zip_path, 'r') as zip_ref:\n",
    "            zip_ref.extractall(data_dir)\n",
    "        print(\"Data extracted\")\n",
    "    else:\n",
    "        print(\"Data directory already exists\")\n",
    "\n",
    "download_data()"
   ]
  },
  {
   "cell_type": "markdown",
   "id": "c7761202",
   "metadata": {},
   "source": [
    "1. \n",
    "- Open the NHANES (or Ames prices or college completion datasets, if you prefer)\n",
    "- Find two categorical variables of interest (there are 198, and short descriptions are given in the `nhanes_meta_17_18.csv` file). Investigate their missing values (you don't have to focus on missing values for this analysis like we did with police use of force, but always be aware of how dirty the data are)\n",
    "- Compute a contingency table for your categorical $X$ and $Y$\n",
    "- Discuss any interesting patterns (or lack of one) that you observe"
   ]
  },
  {
   "cell_type": "markdown",
   "id": "a8c8c246",
   "metadata": {},
   "source": [
    "### Q1 Write-Up\n",
    "\n",
    "The two columns I selected were RacehispanicOrigin and EducationLevelAdults20. The race column is self-explanatory and the EducationLevelAdults20 corresponds to the education level of the survey respondant or their spouse. When doing the missing data analysis, I noticed that RacehispanicOrigin was one of the few columns that had no missing data. That makes sense as evaluating race disparities is common in health research, so extra care was probably taken to make sure that was collected. The EducationLevelAdults20 column had about 37% of entries missing.\n",
    "\n",
    "Looking at the contingency table, we see some racial disparities in educational attainment. The Mexican American category had the highest proportion of household whose adults over age 20 who reported only having a less than a 9th grade education. The Other Race category had the highest proportion of the population whose household's adults who reported having a college education or higher. \n",
    "\n",
    "\n",
    "As someone who worked with similar datasets in my job before starting this program, I found the Other Race category having the highest educational attainments suprising at first look. However, upon reflection I think it could be due to it having groups like Asian Americans contained within it. One other thing to note here is that we can only analyze the datapoints we have and have to assume the missing data follows a similar distribution. In this case, I expect it probably would. \n",
    "\n"
   ]
  },
  {
   "cell_type": "code",
   "execution_count": 29,
   "id": "e29b28d5",
   "metadata": {},
   "outputs": [
    {
     "name": "stderr",
     "output_type": "stream",
     "text": [
      "/var/folders/2n/rqnjq39x0bl3l55y0ghnzcz00000gn/T/ipykernel_47974/2421049931.py:7: DtypeWarning: Columns (142) have mixed types. Specify dtype option on import or set low_memory=False.\n",
      "  nhanes = pd.read_csv(\"./data/nhanes_data_17_18.csv\")\n"
     ]
    },
    {
     "data": {
      "application/vnd.microsoft.datawrangler.viewer.v0+json": {
       "columns": [
        {
         "name": "index",
         "rawType": "int64",
         "type": "integer"
        },
        {
         "name": "SEQN",
         "rawType": "float64",
         "type": "float"
        },
        {
         "name": "GeneralHealthCondition",
         "rawType": "object",
         "type": "unknown"
        },
        {
         "name": "EverBreastfedOrFedBreastmilk",
         "rawType": "float64",
         "type": "float"
        },
        {
         "name": "AgeStoppedBreastfeedingdays",
         "rawType": "float64",
         "type": "float"
        },
        {
         "name": "AgeFirstFedFormuladays",
         "rawType": "float64",
         "type": "float"
        },
        {
         "name": "AgeStoppedReceivingFormuladays",
         "rawType": "float64",
         "type": "float"
        },
        {
         "name": "AgeStartedOtherFoodbeverage",
         "rawType": "float64",
         "type": "float"
        },
        {
         "name": "AgeFirstFedMilkdays",
         "rawType": "float64",
         "type": "float"
        },
        {
         "name": "TypeOfMilkFirstFedWholeMilk",
         "rawType": "object",
         "type": "unknown"
        },
        {
         "name": "TypeOfMilkFirstFed2Milk",
         "rawType": "float64",
         "type": "float"
        },
        {
         "name": "TypeOfMilkFirstFed1Milk",
         "rawType": "float64",
         "type": "float"
        },
        {
         "name": "TypeOfMilkFirstFedFatFreeMilk",
         "rawType": "float64",
         "type": "float"
        },
        {
         "name": "TypeOfMilkFirstFedSoyMilk",
         "rawType": "float64",
         "type": "float"
        },
        {
         "name": "TypeOfMilkFirstFedOther",
         "rawType": "float64",
         "type": "float"
        },
        {
         "name": "HowHealthyIsTheDiet",
         "rawType": "object",
         "type": "unknown"
        },
        {
         "name": "Past30DayMilkProductConsumption",
         "rawType": "object",
         "type": "string"
        },
        {
         "name": "YouDrinkWholeOrRegularMilk",
         "rawType": "object",
         "type": "unknown"
        },
        {
         "name": "YouDrink2FatMilk",
         "rawType": "float64",
         "type": "float"
        },
        {
         "name": "YouDrink1FatMilk",
         "rawType": "float64",
         "type": "float"
        },
        {
         "name": "YouDrinkFatFreeskimMilk",
         "rawType": "float64",
         "type": "float"
        },
        {
         "name": "YouDrinkSoyMilk",
         "rawType": "float64",
         "type": "float"
        },
        {
         "name": "YouDrinkAnotherTypeOfMilk",
         "rawType": "float64",
         "type": "float"
        },
        {
         "name": "RegularMilkUse5TimesPerWeek",
         "rawType": "object",
         "type": "unknown"
        },
        {
         "name": "HowOftenDrankMilkAge512",
         "rawType": "object",
         "type": "unknown"
        },
        {
         "name": "HowOftenDrankMilkAge1317",
         "rawType": "object",
         "type": "unknown"
        },
        {
         "name": "HowOftenDrankMilkAge1835",
         "rawType": "object",
         "type": "unknown"
        },
        {
         "name": "CommunitygovernmentMealsDelivered",
         "rawType": "float64",
         "type": "float"
        },
        {
         "name": "EatMealsAtCommunityseniorCenter",
         "rawType": "float64",
         "type": "float"
        },
        {
         "name": "AttendKindergartenThruHighSchool",
         "rawType": "float64",
         "type": "float"
        },
        {
         "name": "SchoolServesSchoolLunches",
         "rawType": "float64",
         "type": "float"
        },
        {
         "name": "OfTimesweekGetSchoolLunch",
         "rawType": "float64",
         "type": "float"
        },
        {
         "name": "SchoolLunchFreeReducedOrFullPrice",
         "rawType": "object",
         "type": "unknown"
        },
        {
         "name": "SchoolServeCompleteBreakfastEachDay",
         "rawType": "float64",
         "type": "float"
        },
        {
         "name": "OfTimesweekGetSchoolBreakfast",
         "rawType": "float64",
         "type": "float"
        },
        {
         "name": "SchoolBreakfastFreereducedfullPrice",
         "rawType": "object",
         "type": "unknown"
        },
        {
         "name": "SummerProgramMealFreereducedPrice",
         "rawType": "object",
         "type": "unknown"
        },
        {
         "name": "OfMealsNotHomePrepared",
         "rawType": "float64",
         "type": "float"
        },
        {
         "name": "OfMealsFromFastFoodOrPizzaPlace",
         "rawType": "float64",
         "type": "float"
        },
        {
         "name": "OfReadytoeatFoodsInPast30Days",
         "rawType": "float64",
         "type": "float"
        },
        {
         "name": "OfFrozenMealspizzaInPast30Days",
         "rawType": "float64",
         "type": "float"
        },
        {
         "name": "HeardOfMyPlate",
         "rawType": "float64",
         "type": "float"
        },
        {
         "name": "LookedUpMyPlateOnInternet",
         "rawType": "float64",
         "type": "float"
        },
        {
         "name": "TriedMyPlatePlan",
         "rawType": "float64",
         "type": "float"
        },
        {
         "name": "MainMealPlannerpreparer",
         "rawType": "float64",
         "type": "float"
        },
        {
         "name": "SharedMealPlanningpreparingDuty",
         "rawType": "float64",
         "type": "float"
        },
        {
         "name": "MainFoodShopper",
         "rawType": "float64",
         "type": "float"
        },
        {
         "name": "SharedFoodShoppingDuty",
         "rawType": "float64",
         "type": "float"
        },
        {
         "name": "HaveSeriousDifficultyHearing",
         "rawType": "float64",
         "type": "float"
        },
        {
         "name": "HaveSeriousDifficultySeeing",
         "rawType": "float64",
         "type": "float"
        },
        {
         "name": "HaveSeriousDifficultyConcentrating",
         "rawType": "float64",
         "type": "float"
        },
        {
         "name": "HaveSeriousDifficultyWalking",
         "rawType": "float64",
         "type": "float"
        },
        {
         "name": "HaveDifficultyDressingOrBathing",
         "rawType": "float64",
         "type": "float"
        },
        {
         "name": "HaveDifficultyDoingErrandsAlone",
         "rawType": "float64",
         "type": "float"
        },
        {
         "name": "HowOftenDoYouFeelWorriedOrAnxious",
         "rawType": "float64",
         "type": "float"
        },
        {
         "name": "TakeMedicationForTheseFeelings",
         "rawType": "float64",
         "type": "float"
        },
        {
         "name": "HowOftenDoYouFeelDepressed",
         "rawType": "float64",
         "type": "float"
        },
        {
         "name": "TakeMedicationForDepression",
         "rawType": "float64",
         "type": "float"
        },
        {
         "name": "CoveredByHealthInsurance",
         "rawType": "float64",
         "type": "float"
        },
        {
         "name": "UsualSleepTimeOnWeekdaysOrWorkdays",
         "rawType": "object",
         "type": "unknown"
        },
        {
         "name": "UsualWakeTimeOnWeekdaysOrWorkdays",
         "rawType": "object",
         "type": "unknown"
        },
        {
         "name": "SleepHoursWeekdaysOrWorkdays",
         "rawType": "float64",
         "type": "float"
        },
        {
         "name": "HowOftenDoYouSnore",
         "rawType": "object",
         "type": "unknown"
        },
        {
         "name": "EverToldDoctorHadTroubleSleeping",
         "rawType": "float64",
         "type": "float"
        },
        {
         "name": "HowOftenFeelOverlySleepyDuringDay",
         "rawType": "object",
         "type": "unknown"
        },
        {
         "name": "HaveLittleInterestInDoingThings",
         "rawType": "float64",
         "type": "float"
        },
        {
         "name": "FeelingDownDepressedOrHopeless",
         "rawType": "float64",
         "type": "float"
        },
        {
         "name": "TroubleSleepingOrSleepingTooMuch",
         "rawType": "float64",
         "type": "float"
        },
        {
         "name": "FeelingTiredOrHavingLittleEnergy",
         "rawType": "float64",
         "type": "float"
        },
        {
         "name": "PoorAppetiteOrOvereating",
         "rawType": "float64",
         "type": "float"
        },
        {
         "name": "FeelingBadAboutYourself",
         "rawType": "float64",
         "type": "float"
        },
        {
         "name": "TroubleConcentratingOnThings",
         "rawType": "float64",
         "type": "float"
        },
        {
         "name": "MovingOrSpeakingSlowlyOrTooFast",
         "rawType": "float64",
         "type": "float"
        },
        {
         "name": "ThoughtYouWouldBeBetterOffDead",
         "rawType": "float64",
         "type": "float"
        },
        {
         "name": "DifficultyTheseProblemsHaveCaused",
         "rawType": "object",
         "type": "unknown"
        },
        {
         "name": "SmokedTobaccoLast5Days",
         "rawType": "float64",
         "type": "float"
        },
        {
         "name": "DaysSmokedCigarettesLast5Days",
         "rawType": "float64",
         "type": "float"
        },
        {
         "name": "CigarettesSmokedPerDay",
         "rawType": "float64",
         "type": "float"
        },
        {
         "name": "UsedAnyTobaccoProductLast5Days",
         "rawType": "float64",
         "type": "float"
        },
        {
         "name": "ExperienceConfusionmemoryProblems",
         "rawType": "float64",
         "type": "float"
        },
        {
         "name": "PhysicalMentalEmotionalLimitations",
         "rawType": "float64",
         "type": "float"
        },
        {
         "name": "DifficultyManagingMoney",
         "rawType": "object",
         "type": "unknown"
        },
        {
         "name": "60SecHr30SecHr2",
         "rawType": "float64",
         "type": "float"
        },
        {
         "name": "60SecPulse30SecPulse2",
         "rawType": "float64",
         "type": "float"
        },
        {
         "name": "SystolicBloodPres1StRdgMmHg",
         "rawType": "float64",
         "type": "float"
        },
        {
         "name": "DiastolicBloodPres1StRdgMmHg",
         "rawType": "float64",
         "type": "float"
        },
        {
         "name": "SystolicBloodPres2NdRdgMmHg",
         "rawType": "float64",
         "type": "float"
        },
        {
         "name": "DiastolicBloodPres2NdRdgMmHg",
         "rawType": "float64",
         "type": "float"
        },
        {
         "name": "SystolicBloodPres3RdRdgMmHg",
         "rawType": "float64",
         "type": "float"
        },
        {
         "name": "DiastolicBloodPres3RdRdgMmHg",
         "rawType": "float64",
         "type": "float"
        },
        {
         "name": "EnergyKcal_DR2TOT",
         "rawType": "float64",
         "type": "float"
        },
        {
         "name": "ProteinGm_DR2TOT",
         "rawType": "float64",
         "type": "float"
        },
        {
         "name": "CarbohydrateGm_DR2TOT",
         "rawType": "float64",
         "type": "float"
        },
        {
         "name": "TotalSugarsGm_DR2TOT",
         "rawType": "float64",
         "type": "float"
        },
        {
         "name": "DietaryFiberGm_DR2TOT",
         "rawType": "float64",
         "type": "float"
        },
        {
         "name": "TotalFatGm_DR2TOT",
         "rawType": "float64",
         "type": "float"
        },
        {
         "name": "TotalSaturatedFattyAcidsGm_DR2TOT",
         "rawType": "float64",
         "type": "float"
        },
        {
         "name": "TotalMonounsaturatedFattyAcidsGm_DR2TOT",
         "rawType": "float64",
         "type": "float"
        },
        {
         "name": "TotalPolyunsaturatedFattyAcidsGm_DR2TOT",
         "rawType": "float64",
         "type": "float"
        },
        {
         "name": "CholesterolMg_DR2TOT",
         "rawType": "float64",
         "type": "float"
        },
        {
         "name": "AlcoholGm_DR2TOT",
         "rawType": "float64",
         "type": "float"
        },
        {
         "name": "WeightKg",
         "rawType": "float64",
         "type": "float"
        },
        {
         "name": "RecumbentLengthCm",
         "rawType": "float64",
         "type": "float"
        },
        {
         "name": "StandingHeightCm",
         "rawType": "float64",
         "type": "float"
        },
        {
         "name": "BodyMassIndexKgm2",
         "rawType": "float64",
         "type": "float"
        },
        {
         "name": "WaistCircumferenceCm",
         "rawType": "float64",
         "type": "float"
        },
        {
         "name": "DirectHdlcholesterolMgdl",
         "rawType": "float64",
         "type": "float"
        },
        {
         "name": "TotalCholesterolMgdl",
         "rawType": "float64",
         "type": "float"
        },
        {
         "name": "VigorousWorkActivity",
         "rawType": "float64",
         "type": "float"
        },
        {
         "name": "ModerateWorkActivity",
         "rawType": "float64",
         "type": "float"
        },
        {
         "name": "WalkOrBicycle",
         "rawType": "float64",
         "type": "float"
        },
        {
         "name": "VigorousRecreationalActivities",
         "rawType": "float64",
         "type": "float"
        },
        {
         "name": "ModerateRecreationalActivities",
         "rawType": "float64",
         "type": "float"
        },
        {
         "name": "MinutesSedentaryActivity",
         "rawType": "float64",
         "type": "float"
        },
        {
         "name": "EverBeenToldYouHaveAsthma",
         "rawType": "float64",
         "type": "float"
        },
        {
         "name": "DoctorEverSaidYouHadArthritis",
         "rawType": "float64",
         "type": "float"
        },
        {
         "name": "EverToldYouHadHeartAttack",
         "rawType": "float64",
         "type": "float"
        },
        {
         "name": "AgeWhenToldYouHadHeartAttack",
         "rawType": "float64",
         "type": "float"
        },
        {
         "name": "EverToldYouHadAStroke",
         "rawType": "float64",
         "type": "float"
        },
        {
         "name": "AgeWhenToldYouHadAStroke",
         "rawType": "float64",
         "type": "float"
        },
        {
         "name": "EverToldYouHadCancerOrMalignancy",
         "rawType": "float64",
         "type": "float"
        },
        {
         "name": "1StCancerWhatKindWasIt",
         "rawType": "float64",
         "type": "float"
        },
        {
         "name": "Age1StCancerMcq230ADiagnosed",
         "rawType": "float64",
         "type": "float"
        },
        {
         "name": "EverUsedMarijuanaOrHashish",
         "rawType": "float64",
         "type": "float"
        },
        {
         "name": "DaysUsedMarijuanaOrHashishmonth",
         "rawType": "float64",
         "type": "float"
        },
        {
         "name": "EverUsedCocaineheroinmethamphetamine",
         "rawType": "float64",
         "type": "float"
        },
        {
         "name": "EverUseAnyFormOfCocaine",
         "rawType": "float64",
         "type": "float"
        },
        {
         "name": "OfDaysUsedCocainemonth",
         "rawType": "float64",
         "type": "float"
        },
        {
         "name": "EverUsedHeroin",
         "rawType": "float64",
         "type": "float"
        },
        {
         "name": "OfDaysUsedHeroinmonth",
         "rawType": "float64",
         "type": "float"
        },
        {
         "name": "EverUsedMethamphetamine",
         "rawType": "float64",
         "type": "float"
        },
        {
         "name": "DaysUsedMethamphetaminemonth",
         "rawType": "float64",
         "type": "float"
        },
        {
         "name": "EverBeenInRehabilitationProgram",
         "rawType": "float64",
         "type": "float"
        },
        {
         "name": "BloodLeadUgdl",
         "rawType": "float64",
         "type": "float"
        },
        {
         "name": "BloodCadmiumUgl",
         "rawType": "float64",
         "type": "float"
        },
        {
         "name": "BloodMercuryTotalUgl",
         "rawType": "float64",
         "type": "float"
        },
        {
         "name": "BloodSeleniumUgl",
         "rawType": "float64",
         "type": "float"
        },
        {
         "name": "BloodManganeseUgl",
         "rawType": "float64",
         "type": "float"
        },
        {
         "name": "Gender",
         "rawType": "object",
         "type": "string"
        },
        {
         "name": "AgeInYearsAtScreening",
         "rawType": "float64",
         "type": "float"
        },
        {
         "name": "AgeInMonthsAtScreening0To24Mos",
         "rawType": "float64",
         "type": "float"
        },
        {
         "name": "RacehispanicOrigin",
         "rawType": "object",
         "type": "string"
        },
        {
         "name": "RacehispanicOriginWNhAsian",
         "rawType": "object",
         "type": "string"
        },
        {
         "name": "ServedActiveDutyInUsArmedForces",
         "rawType": "object",
         "type": "unknown"
        },
        {
         "name": "EducationLevelChildrenyouth619",
         "rawType": "object",
         "type": "unknown"
        },
        {
         "name": "EducationLevelAdults20",
         "rawType": "object",
         "type": "unknown"
        },
        {
         "name": "MaritalStatus",
         "rawType": "object",
         "type": "unknown"
        },
        {
         "name": "TotalNumberOfPeopleInTheHousehold",
         "rawType": "object",
         "type": "string"
        },
        {
         "name": "TotalNumberOfPeopleInTheFamily",
         "rawType": "object",
         "type": "string"
        },
        {
         "name": "OfChildren5YearsOrYoungerInHh",
         "rawType": "object",
         "type": "string"
        },
        {
         "name": "OfChildren617YearsOldInHh",
         "rawType": "object",
         "type": "string"
        },
        {
         "name": "OfAdults60YearsOrOlderInHh",
         "rawType": "object",
         "type": "string"
        },
        {
         "name": "AnnualHouseholdIncome",
         "rawType": "float64",
         "type": "float"
        },
        {
         "name": "AnnualFamilyIncome",
         "rawType": "float64",
         "type": "float"
        },
        {
         "name": "RatioOfFamilyIncomeToPoverty",
         "rawType": "float64",
         "type": "float"
        },
        {
         "name": "TrunkFatG",
         "rawType": "float64",
         "type": "float"
        },
        {
         "name": "TrunkPercentFat",
         "rawType": "float64",
         "type": "float"
        },
        {
         "name": "TotalPercentFat",
         "rawType": "float64",
         "type": "float"
        },
        {
         "name": "HowOftenAddSaltToFoodAtTable",
         "rawType": "object",
         "type": "unknown"
        },
        {
         "name": "OnSpecialDiet",
         "rawType": "float64",
         "type": "float"
        },
        {
         "name": "WeightLosslowCalorieDiet",
         "rawType": "float64",
         "type": "float"
        },
        {
         "name": "LowFatlowCholesterolDiet",
         "rawType": "float64",
         "type": "float"
        },
        {
         "name": "LowSaltlowSodiumDiet",
         "rawType": "float64",
         "type": "float"
        },
        {
         "name": "DiabeticDiet",
         "rawType": "float64",
         "type": "float"
        },
        {
         "name": "LowCarbohydrateDiet",
         "rawType": "float64",
         "type": "float"
        },
        {
         "name": "EnergyKcal_DR1TOT",
         "rawType": "float64",
         "type": "float"
        },
        {
         "name": "ProteinGm_DR1TOT",
         "rawType": "float64",
         "type": "float"
        },
        {
         "name": "CarbohydrateGm_DR1TOT",
         "rawType": "float64",
         "type": "float"
        },
        {
         "name": "TotalSugarsGm_DR1TOT",
         "rawType": "float64",
         "type": "float"
        },
        {
         "name": "DietaryFiberGm_DR1TOT",
         "rawType": "float64",
         "type": "float"
        },
        {
         "name": "TotalFatGm_DR1TOT",
         "rawType": "float64",
         "type": "float"
        },
        {
         "name": "TotalSaturatedFattyAcidsGm_DR1TOT",
         "rawType": "float64",
         "type": "float"
        },
        {
         "name": "TotalMonounsaturatedFattyAcidsGm_DR1TOT",
         "rawType": "float64",
         "type": "float"
        },
        {
         "name": "TotalPolyunsaturatedFattyAcidsGm_DR1TOT",
         "rawType": "float64",
         "type": "float"
        },
        {
         "name": "CholesterolMg_DR1TOT",
         "rawType": "float64",
         "type": "float"
        },
        {
         "name": "AlcoholGm_DR1TOT",
         "rawType": "float64",
         "type": "float"
        },
        {
         "name": "TunaEatenDuringPast30Days",
         "rawType": "float64",
         "type": "float"
        },
        {
         "name": "DoctorToldYouHaveDiabetes",
         "rawType": "object",
         "type": "string"
        },
        {
         "name": "AgeWhenFirstToldYouHadDiabetes",
         "rawType": "float64",
         "type": "float"
        },
        {
         "name": "EverToldYouHavePrediabetes",
         "rawType": "float64",
         "type": "float"
        },
        {
         "name": "EverToldHaveHealthRiskForDiabetes",
         "rawType": "float64",
         "type": "float"
        },
        {
         "name": "FamilyHistory",
         "rawType": "object",
         "type": "unknown"
        },
        {
         "name": "TakingInsulinNow",
         "rawType": "float64",
         "type": "float"
        },
        {
         "name": "TakeDiabeticPillsToLowerBloodSugar",
         "rawType": "float64",
         "type": "float"
        },
        {
         "name": "WhatWasYourLastA1CLevel",
         "rawType": "float64",
         "type": "float"
        },
        {
         "name": "Glycohemoglobin",
         "rawType": "float64",
         "type": "float"
        },
        {
         "name": "SmokedAtLeast100CigarettesInLife",
         "rawType": "float64",
         "type": "float"
        },
        {
         "name": "AgeStartedSmokingCigarettesRegularly",
         "rawType": "float64",
         "type": "float"
        },
        {
         "name": "DoYouNowSmokeCigarettes",
         "rawType": "object",
         "type": "unknown"
        },
        {
         "name": "DaysSmokedCigsDuringPast30Days",
         "rawType": "float64",
         "type": "float"
        },
        {
         "name": "AvgCigarettesdayDuringPast30Days",
         "rawType": "float64",
         "type": "float"
        },
        {
         "name": "TriedToQuitSmoking",
         "rawType": "float64",
         "type": "float"
        },
        {
         "name": "TimesStoppedSmokingCigarettes",
         "rawType": "float64",
         "type": "float"
        },
        {
         "name": "HowLongWereYouAbleToStopSmoking",
         "rawType": "float64",
         "type": "float"
        },
        {
         "name": "UnitOfMeasureDayweekmonthyear_2_SMQ",
         "rawType": "object",
         "type": "unknown"
        },
        {
         "name": "CurrentSelfreportedHeightInches",
         "rawType": "float64",
         "type": "float"
        },
        {
         "name": "CurrentSelfreportedWeightPounds",
         "rawType": "float64",
         "type": "float"
        },
        {
         "name": "TriedToLoseWeightInPastYear",
         "rawType": "float64",
         "type": "float"
        },
        {
         "name": "TimesLost10LbsOrMoreToLoseWeight",
         "rawType": "object",
         "type": "unknown"
        }
       ],
       "ref": "54713156-be87-419d-80cd-dcc135e81a2c",
       "rows": [
        [
         "0",
         "93703.0",
         null,
         "1.0",
         "273.0",
         "1.0",
         "365.0",
         "152.0",
         "365.0",
         "Whole or regular milk",
         null,
         null,
         null,
         null,
         null,
         null,
         "Often-once a day or more?",
         null,
         null,
         "12.0",
         null,
         null,
         null,
         null,
         null,
         null,
         null,
         null,
         null,
         null,
         null,
         null,
         null,
         null,
         null,
         null,
         null,
         "10.0",
         "5.397605346934028e-79",
         "5.397605346934028e-79",
         "1.0",
         null,
         null,
         null,
         null,
         null,
         null,
         null,
         "0.0",
         "0.0",
         null,
         null,
         null,
         null,
         null,
         null,
         null,
         null,
         "1.0",
         null,
         null,
         null,
         null,
         null,
         null,
         null,
         null,
         null,
         null,
         null,
         null,
         null,
         null,
         null,
         null,
         null,
         null,
         null,
         null,
         null,
         null,
         null,
         "120.0",
         null,
         null,
         null,
         null,
         null,
         null,
         null,
         null,
         null,
         null,
         null,
         null,
         null,
         null,
         null,
         null,
         null,
         null,
         "13.7",
         "89.6",
         "88.6",
         "17.5",
         "48.2",
         null,
         null,
         null,
         null,
         null,
         null,
         null,
         null,
         "0.0",
         null,
         null,
         null,
         null,
         null,
         null,
         null,
         null,
         null,
         null,
         null,
         null,
         null,
         null,
         null,
         null,
         null,
         null,
         null,
         null,
         null,
         null,
         null,
         "Female",
         "2.0",
         null,
         "Other Race - Including Multi-Racial",
         "Non-Hispanic Asian",
         null,
         null,
         null,
         null,
         "5",
         "5",
         "3 or more",
         "0",
         "0",
         "100000.0",
         "100000.0",
         "5.0",
         null,
         null,
         null,
         null,
         null,
         null,
         null,
         null,
         null,
         null,
         null,
         null,
         null,
         null,
         null,
         null,
         null,
         null,
         null,
         null,
         null,
         null,
         "0",
         null,
         null,
         null,
         null,
         "0.0",
         null,
         null,
         null,
         null,
         null,
         null,
         null,
         null,
         null,
         null,
         null,
         null,
         null,
         null,
         null,
         null
        ],
        [
         "1",
         "93704.0",
         null,
         "1.0",
         "60.0",
         "3.0",
         "365.0",
         "126.0",
         "365.0",
         "Whole or regular milk",
         null,
         null,
         null,
         null,
         null,
         null,
         "Sometimes-once a week or more but less than once a day or",
         null,
         null,
         "12.0",
         null,
         null,
         null,
         null,
         null,
         null,
         null,
         null,
         null,
         null,
         null,
         null,
         null,
         null,
         null,
         null,
         null,
         "5.397605346934028e-79",
         null,
         "5.397605346934028e-79",
         "5.397605346934028e-79",
         null,
         null,
         null,
         null,
         null,
         null,
         null,
         "0.0",
         "0.0",
         null,
         null,
         null,
         null,
         null,
         null,
         null,
         null,
         "1.0",
         null,
         null,
         null,
         null,
         null,
         null,
         null,
         null,
         null,
         null,
         null,
         null,
         null,
         null,
         null,
         null,
         null,
         null,
         null,
         null,
         null,
         null,
         null,
         "114.0",
         null,
         null,
         null,
         null,
         null,
         null,
         null,
         "1356.0",
         "30.49",
         "229.69000000000003",
         "134.37",
         "8.2",
         "37.02000000000001",
         "10.368",
         "10.443",
         "13.249",
         "70.0",
         "5.397605346934028e-79",
         "13.9",
         "95.0",
         "94.2",
         "15.7",
         "50.0",
         null,
         null,
         null,
         null,
         null,
         null,
         null,
         null,
         "0.0",
         null,
         null,
         null,
         null,
         null,
         null,
         null,
         null,
         null,
         null,
         null,
         null,
         null,
         null,
         null,
         null,
         null,
         null,
         null,
         "0.07",
         "0.47",
         "142.28",
         "9.41",
         "Male",
         "2.0",
         null,
         "Non-Hispanic White",
         "Non-Hispanic White",
         null,
         null,
         null,
         null,
         "4",
         "4",
         "2",
         "0",
         "0",
         "100000.0",
         "100000.0",
         "5.0",
         null,
         null,
         null,
         null,
         "0.0",
         null,
         null,
         null,
         null,
         null,
         "1230.0",
         "51.580000000000005",
         "160.46",
         "76.97000000000001",
         "5.9",
         "43.24000000000001",
         "11.372",
         "14.332999999999998",
         "12.506",
         "144.0",
         "5.397605346934028e-79",
         "0.0",
         "0",
         null,
         null,
         null,
         null,
         "0.0",
         null,
         null,
         null,
         null,
         null,
         null,
         null,
         null,
         null,
         null,
         null,
         null,
         null,
         null,
         null,
         null
        ],
        [
         "2",
         "93705.0",
         "Good",
         null,
         null,
         null,
         null,
         null,
         null,
         null,
         null,
         null,
         null,
         null,
         null,
         "Good",
         "Sometimes-once a week or more but less than once a day or",
         null,
         null,
         null,
         null,
         null,
         "30.0",
         "{My/His/Her} milk drinking has varied over {my/his/her} life-sometimes {I've/he's/she's} been a regular milk drinker",
         "Often-once a day or more",
         "Sometimes-once a week or more but less than once a day",
         "Sometimes-once a week or more but less than once a day",
         "0.0",
         "0.0",
         null,
         null,
         null,
         null,
         null,
         null,
         null,
         null,
         "5.0",
         "5.397605346934028e-79",
         "5.397605346934028e-79",
         "5.397605346934028e-79",
         "0.0",
         null,
         null,
         "1.0",
         "0.0",
         "1.0",
         "0.0",
         "0.0",
         "0.0",
         "0.0",
         "0.0",
         "0.0",
         "0.0",
         "1.0",
         "0.0",
         "1.0",
         "0.0",
         "1.0",
         "b'23:00'",
         "b'07:00'",
         "8.0",
         "Occasionally - 3-4 nights a week",
         "0.0",
         "Never",
         "0.0",
         "0.0",
         "0.0",
         "0.0",
         "0.0",
         "0.0",
         "0.0",
         "0.0",
         "0.0",
         null,
         "0.0",
         null,
         null,
         "0.0",
         "0.0",
         "0.0",
         "No difficulty",
         null,
         "52.0",
         null,
         null,
         null,
         null,
         "202.0",
         "62.0",
         "1235.0",
         "38.52",
         "147.49",
         "43.040000000000006",
         "13.1",
         "55.19",
         "14.079",
         "19.882",
         "17.072",
         "402.0",
         "5.397605346934028e-79",
         "79.5",
         null,
         "158.3",
         "31.7",
         "101.8",
         "60.0",
         "157.0",
         "0.0",
         "0.0",
         "0.0",
         "0.0",
         "1.0",
         "300.0",
         "1.0",
         "1.0",
         "0.0",
         null,
         "0.0",
         null,
         "0.0",
         null,
         null,
         null,
         null,
         "0.0",
         null,
         null,
         null,
         null,
         null,
         null,
         null,
         "2.98",
         "0.24",
         "1.07",
         "185.71",
         "8.57",
         "Female",
         "66.0",
         null,
         "Non-Hispanic Black",
         "Non-Hispanic Black",
         "0.0",
         null,
         "9-11th grade (Includes 12th grade with no diploma)",
         "Divorced",
         "1",
         "1",
         "0",
         "0",
         "1",
         "12500.0",
         "12500.0",
         "0.82",
         null,
         null,
         null,
         null,
         "0.0",
         null,
         null,
         null,
         null,
         null,
         "1202.0",
         "20.00999999999999",
         "157.45000000000002",
         "91.54999999999998",
         "8.4",
         "56.98",
         "16.435",
         "16.432",
         "19.786",
         "14.0",
         "5.397605346934028e-79",
         null,
         "0",
         null,
         "0.0",
         "0.0",
         null,
         "0.0",
         null,
         null,
         "6.2",
         "1.0",
         "16.0",
         "Not at all",
         null,
         null,
         null,
         null,
         null,
         null,
         "63.0",
         "165.0",
         "0.0",
         "11 times or more"
        ],
        [
         "3",
         "93706.0",
         "Very good",
         null,
         null,
         null,
         null,
         null,
         null,
         null,
         null,
         null,
         null,
         null,
         null,
         "Very good",
         "Never",
         null,
         null,
         null,
         null,
         null,
         null,
         null,
         null,
         null,
         null,
         null,
         null,
         "0.0",
         null,
         null,
         null,
         null,
         null,
         null,
         null,
         "6.0",
         "3.0",
         "5.397605346934028e-79",
         "5.397605346934028e-79",
         "0.0",
         null,
         null,
         "0.0",
         "1.0",
         "0.0",
         "1.0",
         "0.0",
         "0.0",
         "0.0",
         "0.0",
         "0.0",
         "0.0",
         "0.0",
         "0.0",
         "0.0",
         "0.0",
         "1.0",
         "b'23:30'",
         "b'10:00'",
         "10.5",
         "Rarely - 1-2 nights a week",
         "0.0",
         "Rarely - 1 time a month",
         "0.0",
         "0.0",
         "0.0",
         "0.0",
         "0.0",
         "0.0",
         "0.0",
         "0.0",
         "0.0",
         null,
         "0.0",
         null,
         null,
         "0.0",
         null,
         null,
         null,
         null,
         "82.0",
         "112.0",
         "74.0",
         "114.0",
         "70.0",
         "108.0",
         "76.0",
         null,
         null,
         null,
         null,
         null,
         null,
         null,
         null,
         null,
         null,
         null,
         "66.3",
         null,
         "175.7",
         "21.5",
         "79.3",
         "47.0",
         "148.0",
         "0.0",
         "0.0",
         "1.0",
         "0.0",
         "1.0",
         "240.0",
         "0.0",
         null,
         null,
         null,
         null,
         null,
         null,
         null,
         null,
         "0.0",
         null,
         "0.0",
         null,
         null,
         null,
         null,
         null,
         null,
         null,
         "0.74",
         "0.21",
         "10.64",
         "199.44",
         "14.07",
         "Male",
         "18.0",
         null,
         "Other Race - Including Multi-Racial",
         "Non-Hispanic Asian",
         "0.0",
         "More than high school",
         null,
         null,
         "5",
         "5",
         "0",
         "0",
         "1",
         null,
         null,
         null,
         "6358.9",
         "20.9",
         "22.7",
         "Rarely",
         "0.0",
         null,
         null,
         null,
         null,
         null,
         "1987.0",
         "94.19",
         "89.82000000000001",
         "14.729999999999997",
         "7.1000000000000005",
         "137.39",
         "35.169",
         "45.80499999999999",
         "49.873000000000005",
         "462.0",
         "5.397605346934028e-79",
         "0.0",
         "0",
         null,
         "0.0",
         "0.0",
         null,
         "0.0",
         null,
         null,
         "5.2",
         "0.0",
         null,
         null,
         null,
         null,
         null,
         null,
         null,
         null,
         "68.0",
         "145.0",
         "0.0",
         "Never"
        ],
        [
         "4",
         "93707.0",
         "Good",
         null,
         null,
         null,
         null,
         null,
         null,
         null,
         null,
         null,
         null,
         null,
         null,
         null,
         "Never",
         null,
         null,
         null,
         null,
         null,
         null,
         null,
         null,
         null,
         null,
         null,
         null,
         "1.0",
         "1.0",
         "5.0",
         "Reduced price",
         "1.0",
         "5.0",
         "Reduced price",
         "Did not attend summer program",
         "1.0",
         "1.0",
         "6.0",
         "4.0",
         null,
         null,
         null,
         null,
         null,
         null,
         null,
         "0.0",
         "0.0",
         "0.0",
         "0.0",
         "0.0",
         null,
         null,
         null,
         null,
         null,
         "1.0",
         null,
         null,
         null,
         null,
         null,
         null,
         null,
         null,
         null,
         null,
         null,
         null,
         null,
         null,
         null,
         null,
         "0.0",
         null,
         null,
         "0.0",
         null,
         null,
         null,
         null,
         "100.0",
         "128.0",
         "38.0",
         "128.0",
         "46.0",
         "128.0",
         "58.0",
         "1794.0",
         "92.03",
         "153.12",
         "85.81",
         "7.899999999999999",
         "93.98",
         "31.098",
         "35.404999999999994",
         "17.826999999999998",
         "656.0",
         "5.397605346934028e-79",
         "45.4",
         null,
         "158.4",
         "18.1",
         "64.1",
         "68.0",
         "189.0",
         null,
         null,
         null,
         null,
         null,
         null,
         "0.0",
         null,
         null,
         null,
         null,
         null,
         null,
         null,
         null,
         null,
         null,
         null,
         null,
         null,
         null,
         null,
         null,
         null,
         null,
         "0.39",
         "0.14",
         "0.2",
         "179.34",
         "12.6",
         "Male",
         "13.0",
         null,
         "Other Race - Including Multi-Racial",
         "Other Race - Including Multi-Racial",
         null,
         "6th grade",
         null,
         null,
         "7 or more people in the Household",
         "7 or more people in the Family",
         "0",
         "3 or more",
         "0",
         "70000.0",
         "70000.0",
         "1.88",
         "2972.8",
         "15.7",
         "19.0",
         null,
         "0.0",
         null,
         null,
         null,
         null,
         null,
         "1775.0",
         "59.48",
         "188.15",
         "84.22",
         "10.9",
         "89.18",
         "33.252",
         "33.712",
         "12.423999999999998",
         "585.0",
         "5.397605346934028e-79",
         null,
         "0",
         null,
         "0.0",
         "0.0",
         null,
         "0.0",
         null,
         null,
         "5.6",
         null,
         null,
         null,
         null,
         null,
         null,
         null,
         null,
         null,
         null,
         null,
         null,
         null
        ]
       ],
       "shape": {
        "columns": 198,
        "rows": 5
       }
      },
      "text/html": [
       "<div>\n",
       "<style scoped>\n",
       "    .dataframe tbody tr th:only-of-type {\n",
       "        vertical-align: middle;\n",
       "    }\n",
       "\n",
       "    .dataframe tbody tr th {\n",
       "        vertical-align: top;\n",
       "    }\n",
       "\n",
       "    .dataframe thead th {\n",
       "        text-align: right;\n",
       "    }\n",
       "</style>\n",
       "<table border=\"1\" class=\"dataframe\">\n",
       "  <thead>\n",
       "    <tr style=\"text-align: right;\">\n",
       "      <th></th>\n",
       "      <th>SEQN</th>\n",
       "      <th>GeneralHealthCondition</th>\n",
       "      <th>EverBreastfedOrFedBreastmilk</th>\n",
       "      <th>AgeStoppedBreastfeedingdays</th>\n",
       "      <th>AgeFirstFedFormuladays</th>\n",
       "      <th>AgeStoppedReceivingFormuladays</th>\n",
       "      <th>AgeStartedOtherFoodbeverage</th>\n",
       "      <th>AgeFirstFedMilkdays</th>\n",
       "      <th>TypeOfMilkFirstFedWholeMilk</th>\n",
       "      <th>TypeOfMilkFirstFed2Milk</th>\n",
       "      <th>...</th>\n",
       "      <th>DaysSmokedCigsDuringPast30Days</th>\n",
       "      <th>AvgCigarettesdayDuringPast30Days</th>\n",
       "      <th>TriedToQuitSmoking</th>\n",
       "      <th>TimesStoppedSmokingCigarettes</th>\n",
       "      <th>HowLongWereYouAbleToStopSmoking</th>\n",
       "      <th>UnitOfMeasureDayweekmonthyear_2_SMQ</th>\n",
       "      <th>CurrentSelfreportedHeightInches</th>\n",
       "      <th>CurrentSelfreportedWeightPounds</th>\n",
       "      <th>TriedToLoseWeightInPastYear</th>\n",
       "      <th>TimesLost10LbsOrMoreToLoseWeight</th>\n",
       "    </tr>\n",
       "  </thead>\n",
       "  <tbody>\n",
       "    <tr>\n",
       "      <th>0</th>\n",
       "      <td>93703.0</td>\n",
       "      <td>NaN</td>\n",
       "      <td>1.0</td>\n",
       "      <td>273.0</td>\n",
       "      <td>1.0</td>\n",
       "      <td>365.0</td>\n",
       "      <td>152.0</td>\n",
       "      <td>365.0</td>\n",
       "      <td>Whole or regular milk</td>\n",
       "      <td>NaN</td>\n",
       "      <td>...</td>\n",
       "      <td>NaN</td>\n",
       "      <td>NaN</td>\n",
       "      <td>NaN</td>\n",
       "      <td>NaN</td>\n",
       "      <td>NaN</td>\n",
       "      <td>NaN</td>\n",
       "      <td>NaN</td>\n",
       "      <td>NaN</td>\n",
       "      <td>NaN</td>\n",
       "      <td>NaN</td>\n",
       "    </tr>\n",
       "    <tr>\n",
       "      <th>1</th>\n",
       "      <td>93704.0</td>\n",
       "      <td>NaN</td>\n",
       "      <td>1.0</td>\n",
       "      <td>60.0</td>\n",
       "      <td>3.0</td>\n",
       "      <td>365.0</td>\n",
       "      <td>126.0</td>\n",
       "      <td>365.0</td>\n",
       "      <td>Whole or regular milk</td>\n",
       "      <td>NaN</td>\n",
       "      <td>...</td>\n",
       "      <td>NaN</td>\n",
       "      <td>NaN</td>\n",
       "      <td>NaN</td>\n",
       "      <td>NaN</td>\n",
       "      <td>NaN</td>\n",
       "      <td>NaN</td>\n",
       "      <td>NaN</td>\n",
       "      <td>NaN</td>\n",
       "      <td>NaN</td>\n",
       "      <td>NaN</td>\n",
       "    </tr>\n",
       "    <tr>\n",
       "      <th>2</th>\n",
       "      <td>93705.0</td>\n",
       "      <td>Good</td>\n",
       "      <td>NaN</td>\n",
       "      <td>NaN</td>\n",
       "      <td>NaN</td>\n",
       "      <td>NaN</td>\n",
       "      <td>NaN</td>\n",
       "      <td>NaN</td>\n",
       "      <td>NaN</td>\n",
       "      <td>NaN</td>\n",
       "      <td>...</td>\n",
       "      <td>NaN</td>\n",
       "      <td>NaN</td>\n",
       "      <td>NaN</td>\n",
       "      <td>NaN</td>\n",
       "      <td>NaN</td>\n",
       "      <td>NaN</td>\n",
       "      <td>63.0</td>\n",
       "      <td>165.0</td>\n",
       "      <td>0.0</td>\n",
       "      <td>11 times or more</td>\n",
       "    </tr>\n",
       "    <tr>\n",
       "      <th>3</th>\n",
       "      <td>93706.0</td>\n",
       "      <td>Very good</td>\n",
       "      <td>NaN</td>\n",
       "      <td>NaN</td>\n",
       "      <td>NaN</td>\n",
       "      <td>NaN</td>\n",
       "      <td>NaN</td>\n",
       "      <td>NaN</td>\n",
       "      <td>NaN</td>\n",
       "      <td>NaN</td>\n",
       "      <td>...</td>\n",
       "      <td>NaN</td>\n",
       "      <td>NaN</td>\n",
       "      <td>NaN</td>\n",
       "      <td>NaN</td>\n",
       "      <td>NaN</td>\n",
       "      <td>NaN</td>\n",
       "      <td>68.0</td>\n",
       "      <td>145.0</td>\n",
       "      <td>0.0</td>\n",
       "      <td>Never</td>\n",
       "    </tr>\n",
       "    <tr>\n",
       "      <th>4</th>\n",
       "      <td>93707.0</td>\n",
       "      <td>Good</td>\n",
       "      <td>NaN</td>\n",
       "      <td>NaN</td>\n",
       "      <td>NaN</td>\n",
       "      <td>NaN</td>\n",
       "      <td>NaN</td>\n",
       "      <td>NaN</td>\n",
       "      <td>NaN</td>\n",
       "      <td>NaN</td>\n",
       "      <td>...</td>\n",
       "      <td>NaN</td>\n",
       "      <td>NaN</td>\n",
       "      <td>NaN</td>\n",
       "      <td>NaN</td>\n",
       "      <td>NaN</td>\n",
       "      <td>NaN</td>\n",
       "      <td>NaN</td>\n",
       "      <td>NaN</td>\n",
       "      <td>NaN</td>\n",
       "      <td>NaN</td>\n",
       "    </tr>\n",
       "  </tbody>\n",
       "</table>\n",
       "<p>5 rows × 198 columns</p>\n",
       "</div>"
      ],
      "text/plain": [
       "      SEQN GeneralHealthCondition  EverBreastfedOrFedBreastmilk  \\\n",
       "0  93703.0                    NaN                           1.0   \n",
       "1  93704.0                    NaN                           1.0   \n",
       "2  93705.0                   Good                           NaN   \n",
       "3  93706.0              Very good                           NaN   \n",
       "4  93707.0                   Good                           NaN   \n",
       "\n",
       "   AgeStoppedBreastfeedingdays  AgeFirstFedFormuladays  \\\n",
       "0                        273.0                     1.0   \n",
       "1                         60.0                     3.0   \n",
       "2                          NaN                     NaN   \n",
       "3                          NaN                     NaN   \n",
       "4                          NaN                     NaN   \n",
       "\n",
       "   AgeStoppedReceivingFormuladays  AgeStartedOtherFoodbeverage  \\\n",
       "0                           365.0                        152.0   \n",
       "1                           365.0                        126.0   \n",
       "2                             NaN                          NaN   \n",
       "3                             NaN                          NaN   \n",
       "4                             NaN                          NaN   \n",
       "\n",
       "   AgeFirstFedMilkdays TypeOfMilkFirstFedWholeMilk  TypeOfMilkFirstFed2Milk  \\\n",
       "0                365.0       Whole or regular milk                      NaN   \n",
       "1                365.0       Whole or regular milk                      NaN   \n",
       "2                  NaN                         NaN                      NaN   \n",
       "3                  NaN                         NaN                      NaN   \n",
       "4                  NaN                         NaN                      NaN   \n",
       "\n",
       "   ...  DaysSmokedCigsDuringPast30Days  AvgCigarettesdayDuringPast30Days  \\\n",
       "0  ...                             NaN                               NaN   \n",
       "1  ...                             NaN                               NaN   \n",
       "2  ...                             NaN                               NaN   \n",
       "3  ...                             NaN                               NaN   \n",
       "4  ...                             NaN                               NaN   \n",
       "\n",
       "   TriedToQuitSmoking  TimesStoppedSmokingCigarettes  \\\n",
       "0                 NaN                            NaN   \n",
       "1                 NaN                            NaN   \n",
       "2                 NaN                            NaN   \n",
       "3                 NaN                            NaN   \n",
       "4                 NaN                            NaN   \n",
       "\n",
       "  HowLongWereYouAbleToStopSmoking UnitOfMeasureDayweekmonthyear_2_SMQ  \\\n",
       "0                             NaN                                 NaN   \n",
       "1                             NaN                                 NaN   \n",
       "2                             NaN                                 NaN   \n",
       "3                             NaN                                 NaN   \n",
       "4                             NaN                                 NaN   \n",
       "\n",
       "  CurrentSelfreportedHeightInches  CurrentSelfreportedWeightPounds  \\\n",
       "0                             NaN                              NaN   \n",
       "1                             NaN                              NaN   \n",
       "2                            63.0                            165.0   \n",
       "3                            68.0                            145.0   \n",
       "4                             NaN                              NaN   \n",
       "\n",
       "   TriedToLoseWeightInPastYear  TimesLost10LbsOrMoreToLoseWeight  \n",
       "0                          NaN                               NaN  \n",
       "1                          NaN                               NaN  \n",
       "2                          0.0                  11 times or more  \n",
       "3                          0.0                             Never  \n",
       "4                          NaN                               NaN  \n",
       "\n",
       "[5 rows x 198 columns]"
      ]
     },
     "execution_count": 29,
     "metadata": {},
     "output_type": "execute_result"
    }
   ],
   "source": [
    "# Import useful libaries\n",
    "import pandas as pd\n",
    "import seaborn as sns\n",
    "import numpy as np\n",
    "\n",
    "# Open NHANES dataset\n",
    "nhanes = pd.read_csv(\"./data/nhanes_data_17_18.csv\")\n",
    "nhanes.head(5)"
   ]
  },
  {
   "cell_type": "code",
   "execution_count": 30,
   "id": "43ddfe16",
   "metadata": {},
   "outputs": [
    {
     "data": {
      "application/vnd.microsoft.datawrangler.viewer.v0+json": {
       "columns": [
        {
         "name": "RacehispanicOrigin",
         "rawType": "object",
         "type": "string"
        },
        {
         "name": "count",
         "rawType": "int64",
         "type": "integer"
        }
       ],
       "ref": "98466ede-5c69-4fcc-83b4-d5658b7dae6e",
       "rows": [
        [
         "Non-Hispanic White",
         "2792"
        ],
        [
         "Non-Hispanic Black",
         "1949"
        ],
        [
         "Other Race - Including Multi-Racial",
         "1658"
        ],
        [
         "Mexican American",
         "1229"
        ],
        [
         "Other Hispanic",
         "738"
        ]
       ],
       "shape": {
        "columns": 1,
        "rows": 5
       }
      },
      "text/plain": [
       "RacehispanicOrigin\n",
       "Non-Hispanic White                     2792\n",
       "Non-Hispanic Black                     1949\n",
       "Other Race - Including Multi-Racial    1658\n",
       "Mexican American                       1229\n",
       "Other Hispanic                          738\n",
       "Name: count, dtype: int64"
      ]
     },
     "execution_count": 30,
     "metadata": {},
     "output_type": "execute_result"
    }
   ],
   "source": [
    "# Look at missing values for RacehispanicOrigin\n",
    "nhanes['RacehispanicOrigin'].value_counts(dropna=False)"
   ]
  },
  {
   "cell_type": "code",
   "execution_count": 31,
   "id": "e9ac2a9a",
   "metadata": {},
   "outputs": [
    {
     "data": {
      "application/vnd.microsoft.datawrangler.viewer.v0+json": {
       "columns": [
        {
         "name": "EducationLevelAdults20",
         "rawType": "object",
         "type": "unknown"
        },
        {
         "name": "count",
         "rawType": "int64",
         "type": "integer"
        }
       ],
       "ref": "24600121-eb41-4db7-8a60-abf8394e46d8",
       "rows": [
        [
         null,
         "3103"
        ],
        [
         "Some college or AA degree",
         "1689"
        ],
        [
         "College graduate or above",
         "1261"
        ],
        [
         "High school graduate/GED or equivalent",
         "1251"
        ],
        [
         "9-11th grade (Includes 12th grade with no diploma)",
         "598"
        ],
        [
         "Less than 9th grade",
         "454"
        ],
        [
         "Don't Know",
         "10"
        ]
       ],
       "shape": {
        "columns": 1,
        "rows": 7
       }
      },
      "text/plain": [
       "EducationLevelAdults20\n",
       "NaN                                                   3103\n",
       "Some college or AA degree                             1689\n",
       "College graduate or above                             1261\n",
       "High school graduate/GED or equivalent                1251\n",
       "9-11th grade (Includes 12th grade with no diploma)     598\n",
       "Less than 9th grade                                    454\n",
       "Don't Know                                              10\n",
       "Name: count, dtype: int64"
      ]
     },
     "execution_count": 31,
     "metadata": {},
     "output_type": "execute_result"
    }
   ],
   "source": [
    "# Look at missing values for EducationLevelAdults20\n",
    "nhanes['EducationLevelAdults20'].value_counts(dropna=False)"
   ]
  },
  {
   "cell_type": "code",
   "execution_count": 32,
   "id": "a88a8103",
   "metadata": {},
   "outputs": [
    {
     "data": {
      "application/vnd.microsoft.datawrangler.viewer.v0+json": {
       "columns": [
        {
         "name": "EducationLevelAdults20_NA",
         "rawType": "bool",
         "type": "boolean"
        },
        {
         "name": "proportion",
         "rawType": "float64",
         "type": "float"
        }
       ],
       "ref": "b59acfb3-8c28-4478-85c6-1b2838f1290c",
       "rows": [
        [
         "False",
         "0.6290939517092995"
        ],
        [
         "True",
         "0.37090604829070045"
        ]
       ],
       "shape": {
        "columns": 1,
        "rows": 2
       }
      },
      "text/plain": [
       "EducationLevelAdults20_NA\n",
       "False    0.629094\n",
       "True     0.370906\n",
       "Name: proportion, dtype: float64"
      ]
     },
     "execution_count": 32,
     "metadata": {},
     "output_type": "execute_result"
    }
   ],
   "source": [
    "# Check percentage of missing data for EducationLevelAdults20\n",
    "nhanes['EducationLevelAdults20_NA'] = nhanes['EducationLevelAdults20'].isna() \n",
    "nhanes['EducationLevelAdults20_NA'].value_counts(normalize=True)"
   ]
  },
  {
   "cell_type": "code",
   "execution_count": 42,
   "id": "7ab72a68",
   "metadata": {},
   "outputs": [
    {
     "data": {
      "application/vnd.microsoft.datawrangler.viewer.v0+json": {
       "columns": [
        {
         "name": "EducationLevelAdults20",
         "rawType": "object",
         "type": "string"
        },
        {
         "name": "Mexican American",
         "rawType": "float64",
         "type": "float"
        },
        {
         "name": "Non-Hispanic Black",
         "rawType": "float64",
         "type": "float"
        },
        {
         "name": "Non-Hispanic White",
         "rawType": "float64",
         "type": "float"
        },
        {
         "name": "Other Hispanic",
         "rawType": "float64",
         "type": "float"
        },
        {
         "name": "Other Race - Including Multi-Racial",
         "rawType": "float64",
         "type": "float"
        }
       ],
       "ref": "123728a3-1e40-42fc-af1f-570316db6a79",
       "rows": [
        [
         "9-11th grade (Includes 12th grade with no diploma)",
         "0.1833810888252149",
         "0.12267958030669895",
         "0.09518539014941893",
         "0.13306451612903225",
         "0.07820136852394917"
        ],
        [
         "College graduate or above",
         "0.07163323782234957",
         "0.19128329297820823",
         "0.2318760376314333",
         "0.1592741935483871",
         "0.46529814271749753"
        ],
        [
         "Don't Know",
         "0.0028653295128939827",
         "0.0016142050040355124",
         "0.0005534034311012728",
         "0.008064516129032258",
         "0.0009775171065493646"
        ],
        [
         "High school graduate/GED or equivalent",
         "0.22492836676217765",
         "0.2639225181598063",
         "0.28389596015495294",
         "0.1814516129032258",
         "0.1603128054740958"
        ],
        [
         "Less than 9th grade",
         "0.2808022922636103",
         "0.02744148506860371",
         "0.024349750968456003",
         "0.24193548387096775",
         "0.05865102639296188"
        ],
        [
         "Some college or AA degree",
         "0.23638968481375358",
         "0.3930589184826473",
         "0.3641394576646375",
         "0.2762096774193548",
         "0.23655913978494625"
        ]
       ],
       "shape": {
        "columns": 5,
        "rows": 6
       }
      },
      "text/html": [
       "<div>\n",
       "<style scoped>\n",
       "    .dataframe tbody tr th:only-of-type {\n",
       "        vertical-align: middle;\n",
       "    }\n",
       "\n",
       "    .dataframe tbody tr th {\n",
       "        vertical-align: top;\n",
       "    }\n",
       "\n",
       "    .dataframe thead th {\n",
       "        text-align: right;\n",
       "    }\n",
       "</style>\n",
       "<table border=\"1\" class=\"dataframe\">\n",
       "  <thead>\n",
       "    <tr style=\"text-align: right;\">\n",
       "      <th>RacehispanicOrigin</th>\n",
       "      <th>Mexican American</th>\n",
       "      <th>Non-Hispanic Black</th>\n",
       "      <th>Non-Hispanic White</th>\n",
       "      <th>Other Hispanic</th>\n",
       "      <th>Other Race - Including Multi-Racial</th>\n",
       "    </tr>\n",
       "    <tr>\n",
       "      <th>EducationLevelAdults20</th>\n",
       "      <th></th>\n",
       "      <th></th>\n",
       "      <th></th>\n",
       "      <th></th>\n",
       "      <th></th>\n",
       "    </tr>\n",
       "  </thead>\n",
       "  <tbody>\n",
       "    <tr>\n",
       "      <th>9-11th grade (Includes 12th grade with no diploma)</th>\n",
       "      <td>0.183381</td>\n",
       "      <td>0.122680</td>\n",
       "      <td>0.095185</td>\n",
       "      <td>0.133065</td>\n",
       "      <td>0.078201</td>\n",
       "    </tr>\n",
       "    <tr>\n",
       "      <th>College graduate or above</th>\n",
       "      <td>0.071633</td>\n",
       "      <td>0.191283</td>\n",
       "      <td>0.231876</td>\n",
       "      <td>0.159274</td>\n",
       "      <td>0.465298</td>\n",
       "    </tr>\n",
       "    <tr>\n",
       "      <th>Don't Know</th>\n",
       "      <td>0.002865</td>\n",
       "      <td>0.001614</td>\n",
       "      <td>0.000553</td>\n",
       "      <td>0.008065</td>\n",
       "      <td>0.000978</td>\n",
       "    </tr>\n",
       "    <tr>\n",
       "      <th>High school graduate/GED or equivalent</th>\n",
       "      <td>0.224928</td>\n",
       "      <td>0.263923</td>\n",
       "      <td>0.283896</td>\n",
       "      <td>0.181452</td>\n",
       "      <td>0.160313</td>\n",
       "    </tr>\n",
       "    <tr>\n",
       "      <th>Less than 9th grade</th>\n",
       "      <td>0.280802</td>\n",
       "      <td>0.027441</td>\n",
       "      <td>0.024350</td>\n",
       "      <td>0.241935</td>\n",
       "      <td>0.058651</td>\n",
       "    </tr>\n",
       "    <tr>\n",
       "      <th>Some college or AA degree</th>\n",
       "      <td>0.236390</td>\n",
       "      <td>0.393059</td>\n",
       "      <td>0.364139</td>\n",
       "      <td>0.276210</td>\n",
       "      <td>0.236559</td>\n",
       "    </tr>\n",
       "  </tbody>\n",
       "</table>\n",
       "</div>"
      ],
      "text/plain": [
       "RacehispanicOrigin                                  Mexican American  \\\n",
       "EducationLevelAdults20                                                 \n",
       "9-11th grade (Includes 12th grade with no diploma)          0.183381   \n",
       "College graduate or above                                   0.071633   \n",
       "Don't Know                                                  0.002865   \n",
       "High school graduate/GED or equivalent                      0.224928   \n",
       "Less than 9th grade                                         0.280802   \n",
       "Some college or AA degree                                   0.236390   \n",
       "\n",
       "RacehispanicOrigin                                  Non-Hispanic Black  \\\n",
       "EducationLevelAdults20                                                   \n",
       "9-11th grade (Includes 12th grade with no diploma)            0.122680   \n",
       "College graduate or above                                     0.191283   \n",
       "Don't Know                                                    0.001614   \n",
       "High school graduate/GED or equivalent                        0.263923   \n",
       "Less than 9th grade                                           0.027441   \n",
       "Some college or AA degree                                     0.393059   \n",
       "\n",
       "RacehispanicOrigin                                  Non-Hispanic White  \\\n",
       "EducationLevelAdults20                                                   \n",
       "9-11th grade (Includes 12th grade with no diploma)            0.095185   \n",
       "College graduate or above                                     0.231876   \n",
       "Don't Know                                                    0.000553   \n",
       "High school graduate/GED or equivalent                        0.283896   \n",
       "Less than 9th grade                                           0.024350   \n",
       "Some college or AA degree                                     0.364139   \n",
       "\n",
       "RacehispanicOrigin                                  Other Hispanic  \\\n",
       "EducationLevelAdults20                                               \n",
       "9-11th grade (Includes 12th grade with no diploma)        0.133065   \n",
       "College graduate or above                                 0.159274   \n",
       "Don't Know                                                0.008065   \n",
       "High school graduate/GED or equivalent                    0.181452   \n",
       "Less than 9th grade                                       0.241935   \n",
       "Some college or AA degree                                 0.276210   \n",
       "\n",
       "RacehispanicOrigin                                  Other Race - Including Multi-Racial  \n",
       "EducationLevelAdults20                                                                   \n",
       "9-11th grade (Includes 12th grade with no diploma)                             0.078201  \n",
       "College graduate or above                                                      0.465298  \n",
       "Don't Know                                                                     0.000978  \n",
       "High school graduate/GED or equivalent                                         0.160313  \n",
       "Less than 9th grade                                                            0.058651  \n",
       "Some college or AA degree                                                      0.236559  "
      ]
     },
     "execution_count": 42,
     "metadata": {},
     "output_type": "execute_result"
    }
   ],
   "source": [
    "# Filter dataframe to applicable columns and drop missing values\n",
    "filtered = nhanes[['RacehispanicOrigin', 'EducationLevelAdults20']].dropna()\n",
    "\n",
    "# Compute Contingency table using Pandas\n",
    "pd.crosstab(filtered['EducationLevelAdults20'],filtered['RacehispanicOrigin'],  normalize='columns' )"
   ]
  },
  {
   "cell_type": "markdown",
   "id": "6cef48e5",
   "metadata": {},
   "source": [
    "2. \n",
    "- Open the NHANES dataset\n",
    "- Find a categorical and numeric variable of interest (there are 198, and short descriptions are given in the `nhanes_meta_17_18.csv` file). Investigate their missing values (you don't have to focus on missing values for this analysis, but always be aware of them)\n",
    "- Make descriptive tables and grouped kernel density plots to represent the variation in your numeric $Y$ conditional on your categorical $X$\n",
    "- Discuss any interesting patterns (or lack of one) that you observe"
   ]
  },
  {
   "cell_type": "markdown",
   "id": "318bcdab",
   "metadata": {},
   "source": [
    "### Q2 Write-Up\n",
    "\n",
    "The categorical variable I chose to look at was HowOftenFeelOverlySleepyDuringDay and the numerical variable I chose was SleepHoursWeekdaysOrWorkdays. My idea here was to check my hypothesis that people who sleep less hours will report feeling tired more often. Both variables here had about 30% missing data and were dropped before I completed the analysis. \n",
    "\n",
    "When you look at the table and plots, you can indeed see that the people who report being sleepy more often do have lower mean times sleep times on average. The KDE plot is particulary helpful here because you can see the \"Almost Always Feel Sleepy\" group has a lot more mass in the 2-6 hour range than the other groups. You can also see that the 'Often Feels Sleepy' group also has more mass there, just not quite as much. I think that makes a lot of sense intuitively and helps support my theory. "
   ]
  },
  {
   "cell_type": "code",
   "execution_count": 48,
   "id": "0508a2d6",
   "metadata": {},
   "outputs": [
    {
     "data": {
      "application/vnd.microsoft.datawrangler.viewer.v0+json": {
       "columns": [
        {
         "name": "HowOftenFeelOverlySleepyDuringDay",
         "rawType": "object",
         "type": "unknown"
        },
        {
         "name": "count",
         "rawType": "int64",
         "type": "integer"
        }
       ],
       "ref": "db359510-ffa8-4e99-a468-2c92e230f869",
       "rows": [
        [
         null,
         "2550"
        ],
        [
         "Sometimes - 2-4 times a month",
         "1950"
        ],
        [
         "Rarely - 1 time a month",
         "1379"
        ],
        [
         "Often- 5-15 times a month",
         "1019"
        ],
        [
         "Never",
         "967"
        ],
        [
         "Almost always - 16-30 times a month",
         "501"
        ]
       ],
       "shape": {
        "columns": 1,
        "rows": 6
       }
      },
      "text/plain": [
       "HowOftenFeelOverlySleepyDuringDay\n",
       "NaN                                    2550\n",
       "Sometimes - 2-4 times a month          1950\n",
       "Rarely - 1 time a month                1379\n",
       "Often- 5-15 times a month              1019\n",
       "Never                                   967\n",
       "Almost always - 16-30 times a month     501\n",
       "Name: count, dtype: int64"
      ]
     },
     "execution_count": 48,
     "metadata": {},
     "output_type": "execute_result"
    }
   ],
   "source": [
    "\n",
    "#Look at missing values for HowOftenFeelOverlySleepyDuringDay\n",
    "nhanes['HowOftenFeelOverlySleepyDuringDay'].value_counts(dropna=False)\n"
   ]
  },
  {
   "cell_type": "code",
   "execution_count": null,
   "id": "f8e846e6",
   "metadata": {},
   "outputs": [
    {
     "data": {
      "text/plain": [
       "np.float64(0.3048051637580684)"
      ]
     },
     "execution_count": 10,
     "metadata": {},
     "output_type": "execute_result"
    }
   ],
   "source": [
    "# Look at percent of missing values for HowOftenFeelOverlySleepyDuringDay\n",
    "nhanes['HowOftenFeelOverlySleepyDuringDay'].isnull().mean()"
   ]
  },
  {
   "cell_type": "code",
   "execution_count": null,
   "id": "205d8964",
   "metadata": {},
   "outputs": [
    {
     "data": {
      "text/plain": [
       "np.float64(0.3087497011714081)"
      ]
     },
     "execution_count": 11,
     "metadata": {},
     "output_type": "execute_result"
    }
   ],
   "source": [
    "# Look at percent of missing values for SleepHoursWeekdaysOrWorkdays\n",
    "nhanes['SleepHoursWeekdaysOrWorkdays'].isnull().mean()"
   ]
  },
  {
   "cell_type": "code",
   "execution_count": 52,
   "id": "64638f28",
   "metadata": {},
   "outputs": [
    {
     "data": {
      "application/vnd.microsoft.datawrangler.viewer.v0+json": {
       "columns": [
        {
         "name": "HowOftenFeelOverlySleepyDuringDay",
         "rawType": "object",
         "type": "string"
        },
        {
         "name": "count",
         "rawType": "float64",
         "type": "float"
        },
        {
         "name": "mean",
         "rawType": "float64",
         "type": "float"
        },
        {
         "name": "std",
         "rawType": "float64",
         "type": "float"
        },
        {
         "name": "min",
         "rawType": "float64",
         "type": "float"
        },
        {
         "name": "25%",
         "rawType": "float64",
         "type": "float"
        },
        {
         "name": "50%",
         "rawType": "float64",
         "type": "float"
        },
        {
         "name": "75%",
         "rawType": "float64",
         "type": "float"
        },
        {
         "name": "max",
         "rawType": "float64",
         "type": "float"
        }
       ],
       "ref": "6348547a-49e8-4c65-b64a-8b3e3e185447",
       "rows": [
        [
         "Almost always - 16-30 times a month",
         "489.0",
         "7.347648261758692",
         "2.0410238287362814",
         "2.0",
         "6.0",
         "7.5",
         "8.5",
         "14.0"
        ],
        [
         "Often- 5-15 times a month",
         "1014.0",
         "7.517751479289941",
         "1.7997423511371247",
         "2.0",
         "6.5",
         "7.5",
         "8.5",
         "14.0"
        ],
        [
         "Sometimes - 2-4 times a month",
         "1934.0",
         "7.665977249224405",
         "1.5605922481634715",
         "2.0",
         "7.0",
         "8.0",
         "8.5",
         "14.0"
        ],
        [
         "Rarely - 1 time a month",
         "1376.0",
         "7.699127906976744",
         "1.5580731581582943",
         "2.0",
         "7.0",
         "8.0",
         "9.0",
         "14.0"
        ],
        [
         "Never",
         "961.0",
         "7.7929240374609785",
         "1.6632648251552373",
         "2.0",
         "7.0",
         "8.0",
         "9.0",
         "14.0"
        ]
       ],
       "shape": {
        "columns": 8,
        "rows": 5
       }
      },
      "text/html": [
       "<div>\n",
       "<style scoped>\n",
       "    .dataframe tbody tr th:only-of-type {\n",
       "        vertical-align: middle;\n",
       "    }\n",
       "\n",
       "    .dataframe tbody tr th {\n",
       "        vertical-align: top;\n",
       "    }\n",
       "\n",
       "    .dataframe thead th {\n",
       "        text-align: right;\n",
       "    }\n",
       "</style>\n",
       "<table border=\"1\" class=\"dataframe\">\n",
       "  <thead>\n",
       "    <tr style=\"text-align: right;\">\n",
       "      <th></th>\n",
       "      <th>count</th>\n",
       "      <th>mean</th>\n",
       "      <th>std</th>\n",
       "      <th>min</th>\n",
       "      <th>25%</th>\n",
       "      <th>50%</th>\n",
       "      <th>75%</th>\n",
       "      <th>max</th>\n",
       "    </tr>\n",
       "    <tr>\n",
       "      <th>HowOftenFeelOverlySleepyDuringDay</th>\n",
       "      <th></th>\n",
       "      <th></th>\n",
       "      <th></th>\n",
       "      <th></th>\n",
       "      <th></th>\n",
       "      <th></th>\n",
       "      <th></th>\n",
       "      <th></th>\n",
       "    </tr>\n",
       "  </thead>\n",
       "  <tbody>\n",
       "    <tr>\n",
       "      <th>Almost always - 16-30 times a month</th>\n",
       "      <td>489.0</td>\n",
       "      <td>7.347648</td>\n",
       "      <td>2.041024</td>\n",
       "      <td>2.0</td>\n",
       "      <td>6.0</td>\n",
       "      <td>7.5</td>\n",
       "      <td>8.5</td>\n",
       "      <td>14.0</td>\n",
       "    </tr>\n",
       "    <tr>\n",
       "      <th>Often- 5-15 times a month</th>\n",
       "      <td>1014.0</td>\n",
       "      <td>7.517751</td>\n",
       "      <td>1.799742</td>\n",
       "      <td>2.0</td>\n",
       "      <td>6.5</td>\n",
       "      <td>7.5</td>\n",
       "      <td>8.5</td>\n",
       "      <td>14.0</td>\n",
       "    </tr>\n",
       "    <tr>\n",
       "      <th>Sometimes - 2-4 times a month</th>\n",
       "      <td>1934.0</td>\n",
       "      <td>7.665977</td>\n",
       "      <td>1.560592</td>\n",
       "      <td>2.0</td>\n",
       "      <td>7.0</td>\n",
       "      <td>8.0</td>\n",
       "      <td>8.5</td>\n",
       "      <td>14.0</td>\n",
       "    </tr>\n",
       "    <tr>\n",
       "      <th>Rarely - 1 time a month</th>\n",
       "      <td>1376.0</td>\n",
       "      <td>7.699128</td>\n",
       "      <td>1.558073</td>\n",
       "      <td>2.0</td>\n",
       "      <td>7.0</td>\n",
       "      <td>8.0</td>\n",
       "      <td>9.0</td>\n",
       "      <td>14.0</td>\n",
       "    </tr>\n",
       "    <tr>\n",
       "      <th>Never</th>\n",
       "      <td>961.0</td>\n",
       "      <td>7.792924</td>\n",
       "      <td>1.663265</td>\n",
       "      <td>2.0</td>\n",
       "      <td>7.0</td>\n",
       "      <td>8.0</td>\n",
       "      <td>9.0</td>\n",
       "      <td>14.0</td>\n",
       "    </tr>\n",
       "  </tbody>\n",
       "</table>\n",
       "</div>"
      ],
      "text/plain": [
       "                                      count      mean       std  min  25%  \\\n",
       "HowOftenFeelOverlySleepyDuringDay                                           \n",
       "Almost always - 16-30 times a month   489.0  7.347648  2.041024  2.0  6.0   \n",
       "Often- 5-15 times a month            1014.0  7.517751  1.799742  2.0  6.5   \n",
       "Sometimes - 2-4 times a month        1934.0  7.665977  1.560592  2.0  7.0   \n",
       "Rarely - 1 time a month              1376.0  7.699128  1.558073  2.0  7.0   \n",
       "Never                                 961.0  7.792924  1.663265  2.0  7.0   \n",
       "\n",
       "                                     50%  75%   max  \n",
       "HowOftenFeelOverlySleepyDuringDay                    \n",
       "Almost always - 16-30 times a month  7.5  8.5  14.0  \n",
       "Often- 5-15 times a month            7.5  8.5  14.0  \n",
       "Sometimes - 2-4 times a month        8.0  8.5  14.0  \n",
       "Rarely - 1 time a month              8.0  9.0  14.0  \n",
       "Never                                8.0  9.0  14.0  "
      ]
     },
     "execution_count": 52,
     "metadata": {},
     "output_type": "execute_result"
    }
   ],
   "source": [
    "# Create descriptive table using pandas groupby and describe methods\n",
    "filtered2 = nhanes[['SleepHoursWeekdaysOrWorkdays', 'HowOftenFeelOverlySleepyDuringDay']].dropna()\n",
    "conditional = 'HowOftenFeelOverlySleepyDuringDay'\n",
    "filtered2.loc[:,['SleepHoursWeekdaysOrWorkdays', conditional]].groupby(conditional)['SleepHoursWeekdaysOrWorkdays'].describe().sort_values('mean')\n"
   ]
  },
  {
   "cell_type": "code",
   "execution_count": 53,
   "id": "05ad6a9c",
   "metadata": {},
   "outputs": [
    {
     "data": {
      "image/png": "[encoded data removed]",
      "text/plain": [
       "<Figure size 1500x1000 with 1 Axes>"
      ]
     },
     "metadata": {},
     "output_type": "display_data"
    }
   ],
   "source": [
    "import matplotlib.pyplot as plt\n",
    "# Had to change this plotsize to get it make sure legend fit\n",
    "plt.figure(figsize=(15,10))\n",
    "\n",
    "#Create KDE plot\n",
    "sns.kdeplot( data=filtered2, x='SleepHoursWeekdaysOrWorkdays', hue=conditional, common_norm=False ).set(title='KDE')\n",
    "\n",
    "plt.show()"
   ]
  },
  {
   "cell_type": "code",
   "execution_count": 54,
   "id": "9690177d",
   "metadata": {},
   "outputs": [
    {
     "data": {
      "image/png": "[encoded data removed]",
      "text/plain": [
       "<Figure size 1500x1000 with 1 Axes>"
      ]
     },
     "metadata": {},
     "output_type": "display_data"
    }
   ],
   "source": [
    "# Plot ECDF curves as well for good measure\n",
    "plt.figure(figsize=(15,10))\n",
    "sns.ecdfplot( data=filtered2, x='SleepHoursWeekdaysOrWorkdays', hue=conditional).set(title='ECDF')\n",
    "plt.show()"
   ]
  },
  {
   "cell_type": "markdown",
   "id": "4952e789",
   "metadata": {},
   "source": [
    "3. \n",
    "We showed that the mean and median could be discovered by minimizing various kinds of loss functions; this is what machine learning is. To make a prediction $\\hat{y}(z)$ of $Y$ when $X=z$, minimize the mean squared error:\n",
    "$$\n",
    "MSE(\\hat{y}(z)) = \\dfrac{1}{N} \\sum_{i=1}^N \\left\\lbrace y_i - \\hat{y}(z) \\right\\rbrace^2 \\frac{1}{h}k\\left(\\frac{z-x_i}{h}\\right)\n",
    "$$\n",
    "Show that the solution to this problem is the LCLS/Naradaya-Watson estimator.\n",
    "\n",
    "I elected to skip this question."
   ]
  },
  {
   "cell_type": "markdown",
   "id": "98884d76",
   "metadata": {},
   "source": [
    "4. \n",
    "- Write a class or set of functions that implement the LCLS/Naradaya-Watson estimator, using the Silverman plug-in estimate for the conditioning variable $X$ as the bandwidth.\n",
    "- From one of the course data sets, find two numeric variables of interest, analyze their relationship with the the LCLS/Naradaya-Watson estimator, and discuss your results."
   ]
  },
  {
   "cell_type": "markdown",
   "id": "585a1259",
   "metadata": {},
   "source": [
    "### Question 4 Write-Up\n",
    "For this question, I chose to look at the Tumor Size and Overall Survival (In Months) variables from the Metabric dataset. Looking at the plot here, it looks like most of the tumor sizes are in the 12-35 range. Over that section, you can see a clear negative relationship between the size of the tumor and the surival months. This makes sense to me as you would expect people with larger tumors to be at more acute risk of death. However, when we get to the part of the dataset that less less data, you can see the LCLS estimator overfitting based on the few datapoints out there. As a result, the estimator is less useful there. "
   ]
  },
  {
   "cell_type": "code",
   "execution_count": 55,
   "id": "3d06d15c",
   "metadata": {},
   "outputs": [],
   "source": [
    "# Calculate Silverman plug in estimate for bandwith\n",
    "def calculate_silverman(x):\n",
    "    x = x.to_numpy()\n",
    "    iqr = np.quantile(x, .75) - np.quantile(x, .25)\n",
    "    h = 0.9* min(np.std(x), iqr/1.34) * len(x)** (-0.2)\n",
    "    return h\n",
    "\n",
    "# Calculate LCLS Estimator\n",
    "def calculate_lcls(x,y,h=None):\n",
    "    grid = np.sort(x.unique())\n",
    "\n",
    "    if h is None:\n",
    "        h = calculate_silverman(x)\n",
    "\n",
    "    # Compute the Kernal (Went with Gaussian)\n",
    "    I = -(x.to_numpy().reshape(-1,1) - grid.reshape(1,-1))**2\n",
    "    K = np.exp(I/(2*h**2)) / (np.sqrt(2*np.pi)*h)\n",
    "\n",
    "    # Calculate the LCLS Estimator\n",
    "    numerator = y@K\n",
    "    denominator = K.sum(axis=0)\n",
    "    y_hat = numerator/denominator\n",
    "    return y_hat, grid\n",
    "\n",
    "# Plot Function (calls lcls function internally)\n",
    "def plot_lcls(x,y,h=None):\n",
    "    y_hat, grid = calculate_lcls(x,y,h)\n",
    "    sns.scatterplot(x=x, y=y, alpha=0.4, color='orange')\n",
    "    sns.lineplot(x=grid, y=y_hat, color='navy')\n",
    "    plt.show()"
   ]
  },
  {
   "cell_type": "code",
   "execution_count": null,
   "id": "4e332d19",
   "metadata": {},
   "outputs": [
    {
     "data": {
      "image/png": "[encoded data removed]",
      "text/plain": [
       "<Figure size 640x480 with 1 Axes>"
      ]
     },
     "metadata": {},
     "output_type": "display_data"
    }
   ],
   "source": [
    "# Load in metabric dataset\n",
    "metabric = pd.read_csv(\"./data/metabric.csv\")\n",
    "\n",
    "# Plot LCLS of Tumor Size vs Overall Survival (Months)\n",
    "plot_lcls(metabric['Tumor Size'], metabric['Overall Survival (Months)'])\n"
   ]
  },
  {
   "cell_type": "markdown",
   "id": "0534c110",
   "metadata": {},
   "source": [
    "5. \n",
    "- In any of the available data sets, investigate the relationships between pairs of variables $(X,Y)$ with a scatterplot and CEF (for example, price on area)\n",
    "- Is this relationship plausibly causal, or are there missing variables that might explain at least part of the relationship between your variables? These can be \"conceptual\" rather than \"practical\"; for example, 'talent' or 'grit' probably explain education outcomes, but are almost impossible to measure. We are asking whether there are hypothetical **threats to causal identification** of the effect of $X$ on $Y$.\n",
    "- Explain how, regardless of the threat to causal identification, you can still use your model to predict $Y$ given $X$, as long as you don't intervene in the system to control the outcome"
   ]
  },
  {
   "cell_type": "markdown",
   "id": "8a80b860",
   "metadata": {},
   "source": [
    "### Question 5 Write-Up\n",
    "For this question, I decided to look at the Garage.Cars variable and the price variable from the Ames dataset.\n",
    "For 0-3 Car Garages, we see that, on average, price increased as Garage Size increased. However, interestingly enough, here for 4 and 5 Garage Cars we see the price trend downward. This could be due to the limited sample size for those two sizes. \n",
    "\n",
    "\n",
    " Like our class example, there is likely some omitted variables here that could be threats to causal indentification. For example, a larger garage size is likely correlated with a larger overall house. And we know a larger overall house size will be correlated with a higher price. Additionally, I would suspect that houses with larger garage capacities are also newer than other houses and we know that newer houses probably also cost more on average. \n",
    "\n",
    "Despite these possible threats to casual identification, we can still use this model to predict Price given Garage Size as long as we don't intervene in the system to change the outcome. This is because prediction and casual inference are fundamentally different things. In prediction, we are just looking for an expected value Y given we have seen a certain value for x. We are not making claims about what would happen to Y if we intervene and changed x. "
   ]
  },
  {
   "cell_type": "code",
   "execution_count": 72,
   "id": "9aee1137",
   "metadata": {},
   "outputs": [
    {
     "data": {
      "application/vnd.microsoft.datawrangler.viewer.v0+json": {
       "columns": [
        {
         "name": "Garage.Cars",
         "rawType": "float64",
         "type": "float"
        },
        {
         "name": "price",
         "rawType": "float64",
         "type": "float"
        }
       ],
       "ref": "83b2c63b-61b3-42c8-8bfa-a0234621a2c4",
       "rows": [
        [
         "0.0",
         "104949.25477707006"
        ],
        [
         "1.0",
         "127267.42287917738"
        ],
        [
         "2.0",
         "183562.10293200248"
        ],
        [
         "3.0",
         "310304.6229946524"
        ],
        [
         "4.0",
         "228748.6875"
        ],
        [
         "5.0",
         "126500.0"
        ]
       ],
       "shape": {
        "columns": 1,
        "rows": 6
       }
      },
      "text/html": [
       "<div>\n",
       "<style scoped>\n",
       "    .dataframe tbody tr th:only-of-type {\n",
       "        vertical-align: middle;\n",
       "    }\n",
       "\n",
       "    .dataframe tbody tr th {\n",
       "        vertical-align: top;\n",
       "    }\n",
       "\n",
       "    .dataframe thead th {\n",
       "        text-align: right;\n",
       "    }\n",
       "</style>\n",
       "<table border=\"1\" class=\"dataframe\">\n",
       "  <thead>\n",
       "    <tr style=\"text-align: right;\">\n",
       "      <th></th>\n",
       "      <th>price</th>\n",
       "    </tr>\n",
       "    <tr>\n",
       "      <th>Garage.Cars</th>\n",
       "      <th></th>\n",
       "    </tr>\n",
       "  </thead>\n",
       "  <tbody>\n",
       "    <tr>\n",
       "      <th>0.0</th>\n",
       "      <td>104949.254777</td>\n",
       "    </tr>\n",
       "    <tr>\n",
       "      <th>1.0</th>\n",
       "      <td>127267.422879</td>\n",
       "    </tr>\n",
       "    <tr>\n",
       "      <th>2.0</th>\n",
       "      <td>183562.102932</td>\n",
       "    </tr>\n",
       "    <tr>\n",
       "      <th>3.0</th>\n",
       "      <td>310304.622995</td>\n",
       "    </tr>\n",
       "    <tr>\n",
       "      <th>4.0</th>\n",
       "      <td>228748.687500</td>\n",
       "    </tr>\n",
       "    <tr>\n",
       "      <th>5.0</th>\n",
       "      <td>126500.000000</td>\n",
       "    </tr>\n",
       "  </tbody>\n",
       "</table>\n",
       "</div>"
      ],
      "text/plain": [
       "                     price\n",
       "Garage.Cars               \n",
       "0.0          104949.254777\n",
       "1.0          127267.422879\n",
       "2.0          183562.102932\n",
       "3.0          310304.622995\n",
       "4.0          228748.687500\n",
       "5.0          126500.000000"
      ]
     },
     "execution_count": 72,
     "metadata": {},
     "output_type": "execute_result"
    },
    {
     "data": {
      "image/png": "[encoded data removed]",
      "text/plain": [
       "<Figure size 640x480 with 1 Axes>"
      ]
     },
     "metadata": {},
     "output_type": "display_data"
    }
   ],
   "source": [
    "ames = pd.read_csv(\"./data/ames_prices.csv\")\n",
    "# Drop missing values and calculate means for each garage size\n",
    "means = ames[['price','Garage.Cars']].dropna().groupby('Garage.Cars').mean()\n",
    "\n",
    "# Plot scatterplot and CEF\n",
    "sns.scatterplot(data=ames, y='price', x='Garage.Cars',alpha=.05, label='data', color='orange')\n",
    "sns.lineplot(data=means, x='Garage.Cars',y='price',color='navy', label='$\\\\widehat{\\\\mathbb{E}}[Y|X=x]$')\n",
    "\n",
    "# output means table\n",
    "means"
   ]
  }
 ],
 "metadata": {
  "kernelspec": {
   "display_name": "ds6001",
   "language": "python",
   "name": "python3"
  },
  "language_info": {
   "codemirror_mode": {
    "name": "ipython",
    "version": 3
   },
   "file_extension": ".py",
   "mimetype": "text/x-python",
   "name": "python",
   "nbconvert_exporter": "python",
   "pygments_lexer": "ipython3",
   "version": "3.13.5"
  }
 },
 "nbformat": 4,
 "nbformat_minor": 5
}
